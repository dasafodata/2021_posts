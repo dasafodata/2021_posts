{
 "cells": [
  {
   "cell_type": "markdown",
   "metadata": {},
   "source": [
    "# Environment\n",
    "\n",
    "We are going to create teh environment into a class called *Environment*. This class contains 4 methods, the class's constructor method *(__init__())*, a method to update the environment *(update_env()(...)*), a method to reset the environment *(rest(...))* and finnaly a method to give us information about some variables *(observe(...))*.\n",
    "\n",
    "**- The general structure will be:**"
   ]
  },
  {
   "cell_type": "code",
   "execution_count": null,
   "metadata": {},
   "outputs": [],
   "source": [
    "# Import libraries\n",
    "import numpy as np\n",
    "\n",
    "#Create the class and its methods\n",
    "class Environment(object):\n",
    "\n",
    "    def __init__(self, optimal_temp, initial_month, initial_number_users, initial_rate_data):\n",
    "        ...............\n",
    "        ...............\n",
    "\n",
    "    def update_env(self, direction, energy, energy_ai, month):\n",
    "        ..............\n",
    "        ..............\n",
    "\n",
    "        return next_state, reward, game_over\n",
    "\n",
    "    def reset_env(self, new_month):\n",
    "        .............\n",
    "        .............\n",
    "\n",
    "    def give_env(self):\n",
    "        ............\n",
    "        ............\n",
    "\n",
    "        return current_state, reward, game_over\n"
   ]
  },
  {
   "cell_type": "markdown",
   "metadata": {},
   "source": [
    "## 1 - Introduction and initialization of environment variables and parameters."
   ]
  },
  {
   "cell_type": "code",
   "execution_count": null,
   "metadata": {},
   "outputs": [],
   "source": [
    "    def __init__(self, optimal_temp = (15, 25), initial_month = 0, initial_number_users = 15, initial_rate_data = 80):\n",
    "        #For example, Average Weather in Köln, Germany (https://en.climate-data.org/europe/germany/north-rhine-westphalia/cologne-76/#:~:text=The%20average%20annual%20temperature%20in,%C2%B0C%20%7C%2050.2%20%C2%B0F.)\n",
    "        self.monthly_atmospheric_temp = [1.8, 2.5, 6, 9.5, 13.6, 16.7, 18.3, 18.1, 15.1, 10.5, 6.1, 2.9]\n",
    "        self.initial_month = initial_month\n",
    "        self.atmospheric_temp = self.monthly_atmospheric_temp[initial_month]\n",
    "        self.optimal_temp = optimal_temp\n",
    "        self.min_temp = -25\n",
    "        self.max_temp = 80\n",
    "        self.min_number_users = 8\n",
    "        self.max_number_users = 120\n",
    "        self.max_update_users = 6\n",
    "        self.min_rate_data = 20\n",
    "        self.max_rate_data = 400\n",
    "        self.max_update_data = 10\n",
    "        self.initial_number_users = initial_number_users\n",
    "        self.current_number_users = initial_number_users\n",
    "        self.initial_rate_data = initial_rate_data\n",
    "        self.current_rate_data = initial_rate_data\n",
    "        self.intrinsec_temp = self.atmospheric_temp + 1.3*self.current_number_users+1.3*self.current_rate_data\n",
    "        self.temp_ai = self.intrinsec_temp\n",
    "        self.temp_noai = (self.optimal_temp[0]+self.optimal_temp[1])/2.0\n",
    "        self.total_energy_ai = 0.0\n",
    "        self.total_energy_noai = 0.0\n",
    "        self.reward = 0.0\n",
    "        self.game_over = 0\n",
    "        self.train = 1\n"
   ]
  },
  {
   "cell_type": "markdown",
   "metadata": {},
   "source": [
    "## 2 - Creating a update environment method after the IA performs an action."
   ]
  },
  {
   "cell_type": "code",
   "execution_count": null,
   "metadata": {
    "attributes": {
     "classes": [
      "input}"
     ],
     "id": ""
    }
   },
   "outputs": [],
   "source": [
    "    def update_env(self, direction, energy_ai, month):\n",
    "        # GETTING THE REWARD\n",
    "\n",
    "        # Energy spended by cooling system server (no-IA)\n",
    "        energy_noai = 0\n",
    "        if(self.temp_noai  < self.optimal_temp[0]):\n",
    "            energy_noai = self.optimal_temp[0] - self.temp_noai\n",
    "            self.temp_noai = self.optimal_temp[0]\n",
    "        elif(self.temp_noai > self.optimal_temp[1]):\n",
    "            energy_noai = self.temp_noai - self.optimal_temp[1]\n",
    "            self.temp_noai = self.optimal_temp[1]\n",
    "\n",
    "        # The Reward\n",
    "        self.reward = energy_noai - energy_ai\n",
    "        # Scaled the reward\n",
    "        self.reward = 1e-3*self.reward\n",
    "\n",
    "        # GETTING THE NEXT STATE\n",
    "\n",
    "        # Updating the atmospheric temp\n",
    "        self.atmospheric_temp = self.monthly_atmospheric_temp[month]\n",
    "        # Updating the number of users\n",
    "        self.current_number_users += np.random.randint(-self.max_update_users, self.max_update_users)\n",
    "        if(self.current_number_users < self.min_number_users):\n",
    "            self.current_number_users = self.min_number_users\n",
    "        elif(self.current_number_users > self.max_number_users):\n",
    "            self.current_number_users = self.max_number_users\n",
    "        # Updating the current rate data\n",
    "        self.current_rate_data += np.random.randint(-self.max_update_data, self.max_update_data)\n",
    "        if(self.current_rate_data < self.min_rate_data):\n",
    "            self.current_rate_data = self.min_rate_data\n",
    "        elif(self.current_rate_data > self.max_rate_data):\n",
    "            self.current_rate_data = self.max_rate_data\n",
    "        # Intrinsic temperature variation\n",
    "        past_intrinsic_temp =  self.intrinsec_temp #previous temperature \n",
    "        self.intrinsec_temp = self.atmospheric_temp + 1.3*self.current_number_users+1.3*self.current_rate_data\n",
    "        delta_intrinsec_temperaure = self.intrinsec_temp - past_intrinsic_temp\n",
    "        # Temperature variation caused by IA\n",
    "        if(direction==-1): #if temperature down \n",
    "            delta_temp_ai = -energy_ai\n",
    "        elif(direction == 1): #if temperature up\n",
    "            delta_temp_ai = energy_ai\n",
    "        # New server temperature when IA is connected\n",
    "        self.temp_ai += delta_intrinsec_temperaure + delta_temp_ai\n",
    "        # New server temperature when IA is disabled\n",
    "        self.temp_noai += delta_intrinsec_temperaure\n",
    "\n",
    "        # GETTING THE GAME OVER\n",
    "        if(self.temp_ai < self.min_temp):\n",
    "            if(self.train == 1):\n",
    "                self.game_over = 1\n",
    "            else:\n",
    "                self.total_energy_ai += self.optimal_temp[0] - self.temp_ai\n",
    "                self.temp_ai = self.optimal_temp[0]\n",
    "        if(self.temp_ai > self.max_temp):\n",
    "            if(self.train == 1):\n",
    "                self.game_over = 1\n",
    "            else:\n",
    "                self.total_energy_ai += self.temp_ai - self.optimal_temp[1]\n",
    "                self.temp_ai = self.optimal_temp[1]\n",
    "\n",
    "        # UPDATING THE SCORES\n",
    "\n",
    "        # Total Energy spends by IA\n",
    "        self.total_energy_ai += energy_ai\n",
    "        # Total Energy spends by no-IA (without IA)\n",
    "        self.total_energy_noai += energy_noai\n",
    "\n",
    "\n",
    "        # SCALING NEXT STATE \n",
    "        scaled_temp_ai = (self.temp_ai - self.min_temp)/(self.max_temp - self.min_temp)\n",
    "        scaled_number_users = (self.current_number_users - self.min_number_users)/(self.max_number_users - self.min_number_users)\n",
    "        scaled_rate_data = (self.current_rate_data - self.min_rate_data)/(self.max_rate_data - self.min_rate_data)\n",
    "        next_state = np.matrix([scaled_temp_ai, scaled_number_users, scaled_rate_data])\n",
    "\n",
    "        # RETURN NEXT STATE, REWARD AND GAME OVER\n",
    "        return next_state, self.reward, self.game_over\n"
   ]
  },
  {
   "cell_type": "markdown",
   "metadata": {},
   "source": [
    "## 3 -  Creating a reset environment method."
   ]
  },
  {
   "cell_type": "code",
   "execution_count": null,
   "metadata": {},
   "outputs": [],
   "source": [
    "    def reset_env(self, new_month):\n",
    "        self.atmospheric_temp = self.monthly_atmospheric_temp[new_month]\n",
    "        self.initial_month = new_month\n",
    "        self.current_number_users = self.initial_number_users\n",
    "        self.current_rate_data = self.initial_rate_data\n",
    "        self.intrinsec_temp = self.atmospheric_temp + 1.3*self.current_number_users+1.3*self.current_rate_data\n",
    "        self.temp_ai = self.intrinsec_temp\n",
    "        self.temp_noai = (self.optimal_temp[0]+self.optimal_temp[1])/2.0\n",
    "        self.total_energy_ai = 0.0\n",
    "        self.total_energy_noai = 0.0\n",
    "        self.reward = 0.0\n",
    "        self.game_over = 0\n",
    "        self.train = 1\n",
    "\n"
   ]
  },
  {
   "cell_type": "markdown",
   "metadata": {},
   "source": [
    "## 4 - Creating a method who gives us the state, the reward and the end of the game any moment."
   ]
  },
  {
   "cell_type": "code",
   "execution_count": null,
   "metadata": {},
   "outputs": [],
   "source": [
    "    def give_env(self):\n",
    "        scaled_temp_ai = (self.temp_ai - self.min_temp)/(self.max_temp - self.min_temp)\n",
    "        scaled_number_users = (self.current_number_users - self.min_number_users)/(self.max_number_users - self.min_number_users)\n",
    "        scaled_rate_data = (self.current_rate_data - self.min_rate_data)/(self.max_rate_data - self.min_rate_data)\n",
    "        current_state = np.matrix([scaled_temp_ai, scaled_number_users, scaled_rate_data])\n",
    "\n",
    "        return current_state, self.reward, self.game_over\n"
   ]
  }
 ],
 "metadata": {
  "kernelspec": {
   "display_name": "Python 3",
   "language": "python",
   "name": "python3"
  },
  "language_info": {
   "codemirror_mode": {
    "name": "ipython",
    "version": 3
   },
   "file_extension": ".py",
   "mimetype": "text/x-python",
   "name": "python",
   "nbconvert_exporter": "python",
   "pygments_lexer": "ipython3",
   "version": "3.8.5"
  }
 },
 "nbformat": 4,
 "nbformat_minor": 4
}
