{
 "cells": [
  {
   "cell_type": "markdown",
   "metadata": {},
   "source": [
    "# Deep Reinforcement Learning Algorithm(DQN)\n",
    "\n",
    "### Import libraries:"
   ]
  },
  {
   "cell_type": "code",
   "execution_count": null,
   "metadata": {},
   "outputs": [],
   "source": [
    "import numpy as np"
   ]
  },
  {
   "cell_type": "markdown",
   "metadata": {},
   "source": [
    "### Algorithm Implementation:"
   ]
  },
  {
   "cell_type": "code",
   "execution_count": null,
   "metadata": {},
   "outputs": [],
   "source": [
    "class DQN(object):\n",
    "\n",
    "    # INICIALIZATION DQN PARAMETERS\n",
    "    def __init__(self, max_memory = 100, discount_factor = 0.9):\n",
    "        self.memory = list()\n",
    "        self.max_memory = max_memory\n",
    "        self.discount_factor = discount_factor #gamma factor\n",
    "\n",
    "    # BUILDING A EXPERIENCE DELAY MEMORY\n",
    "    def remember(self, transition, game_over):\n",
    "        self.memory.append([transition, game_over])\n",
    "        if len(self.memory) > self.max_memory:\n",
    "            del self.memory[0]\n",
    "\n",
    "    # BUILDING A METHOD THAT BUILDS TWO INPUTS AND TARGETS BLOCKS AND EXTRACTING THE MEMORY'S TRANSITIONS\n",
    "    def get_batch(self, model, batch_size = 10):\n",
    "        len_memory = len(self.memory)\n",
    "        num_inputs = self.memory[0][0][0].shape[1]\n",
    "        num_outputs = model.output_shape[-1]\n",
    "        inputs = np.zeros((min(batch_size, len_memory), num_inputs))\n",
    "        targets = np.zeros((min(batch_size, len_memory), num_outputs))\n",
    "        for i, idx in enumerate(np.random.randint(0, len_memory, size=min(len_memory, batch_size))):\n",
    "            current_state, action, reward, next_state = self.memory[idx][0] #we want the memory's transition\n",
    "            game_over = self.memory[idx][1]\n",
    "            inputs[i] = current_state\n",
    "            targets[i] = model.predict(current_state)[0]\n",
    "            Q_sa = np.max(model.predict(next_state)[0])\n",
    "            if game_over:\n",
    "                targets[i, action] = reward\n",
    "            else:\n",
    "                targets[i, action] = reward + self.discount_factor*Q_sa\n",
    "        return inputs, targets\n"
   ]
  }
 ],
 "metadata": {
  "kernelspec": {
   "display_name": "Python 3",
   "language": "python",
   "name": "python3"
  },
  "language_info": {
   "codemirror_mode": {
    "name": "ipython",
    "version": 3
   },
   "file_extension": ".py",
   "mimetype": "text/x-python",
   "name": "python",
   "nbconvert_exporter": "python",
   "pygments_lexer": "ipython3",
   "version": "3.8.5"
  }
 },
 "nbformat": 4,
 "nbformat_minor": 4
}
