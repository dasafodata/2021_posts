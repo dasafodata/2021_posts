{
 "cells": [
  {
   "cell_type": "markdown",
   "metadata": {},
   "source": [
    "# The Brain\n",
    "\n",
    "We are going to build a neuronal network like this:\n",
    "\n",
    "<img src=\"Recursos/er_neuronal.jpg\" width=\"800\">\n",
    "\n",
    "### Import the libraries:"
   ]
  },
  {
   "cell_type": "code",
   "execution_count": null,
   "metadata": {
    "attributes": {
     "classes": [
      "input}"
     ],
     "id": ""
    }
   },
   "outputs": [],
   "source": [
    "from keras.layers import Input, Dense, Dropout\n",
    "from keras.models import Model\n",
    "from keras.optimizers import Adam\n"
   ]
  },
  {
   "cell_type": "markdown",
   "metadata": {},
   "source": [
    "### Building the brain:"
   ]
  },
  {
   "cell_type": "code",
   "execution_count": null,
   "metadata": {},
   "outputs": [],
   "source": [
    "class Brain(object):\n",
    "\tdef __init__(self, learning_rate = 0.00001, number_actions = 5):\n",
    "\t\tself.learning_rate = learning_rate\n",
    "\n",
    "\t\t# INPUT LAYER FORMED BY INPUT STATES\n",
    "\t\tstates = Input(shape = (3,))\n",
    "\n",
    "\t\t# TWO HIDDEN LAYERS TOTALLY CONNECTED\n",
    "\t\tx = Dense(units = 64, activation = 'sigmoid')(states)\n",
    "\t\tx = Dropout(rate = 0.1)(x) #during training in each iteration 10% of neurons will be randomly turned off\n",
    "\t\ty = Dense(units = 32, activation = 'sigmoid')(x)\n",
    "\t\ty = Dropout(rate = 0.1)(y) #during training in each iteration 10% of neurons will be randomly turned off\n",
    "\n",
    "\t\t# OUTPUT LAYER TOTALLY CONNECTED TO THE LAST HIDDEN LAYER\n",
    "\t\tq_values = Dense(units = number_actions, activation = 'softmax')(y)\n",
    "\n",
    "\t\t# ENSAMBLAR LA ARQUITECTURA COMPLETA EN UN MODELO DE KERAS \n",
    "\t\tself.model = Model(inputs = states, outputs = q_values)\n",
    "\n",
    "\t\t# COMPILING THE MODEL WITH THE MEAN SQUARE ERROR LOSS FUNCTION(MSE) AND THE OPTIMIZER (Adam)\n",
    "\t\tself.model.compile(loss = 'mse', optimizer = Adam(lr = learning_rate))\n"
   ]
  }
 ],
 "metadata": {
  "kernelspec": {
   "display_name": "Python 3",
   "language": "python",
   "name": "python3"
  },
  "language_info": {
   "codemirror_mode": {
    "name": "ipython",
    "version": 3
   },
   "file_extension": ".py",
   "mimetype": "text/x-python",
   "name": "python",
   "nbconvert_exporter": "python",
   "pygments_lexer": "ipython3",
   "version": "3.8.5"
  }
 },
 "nbformat": 4,
 "nbformat_minor": 4
}
