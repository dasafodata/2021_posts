{
 "cells": [
  {
   "cell_type": "markdown",
   "metadata": {},
   "source": [
    "# Profit Maximization with Thompson Sampling\n",
    "\n",
    "\n",
    "# Instroduction\n",
    "A company wants to implement a plan premium for its clients. The goal for this online reatail business is getting as many suscribers as possible to the special plan. This is offered for 100$ per year.\n",
    "\n",
    "The marketing department has provided us 10 differents strategies and our IA will not have any idea which one is the best. So we will assume that each has a fixed conversion rate. These 10 strategies are all different,  they have different shapes, different packages, different advertisements, and different special offers to convince and persuade customers to subscribe to the premium plan. The marketing team wants to figure it out as soon as possible.\n",
    "\n",
    "To simulate this Case Study, we will assume these strategies have the following conversion rates:\n",
    "\n",
    "Strategy|  Conversion Rate\n",
    "  \n",
    "  1     |        0.01\n",
    "  \n",
    "  2     |       0.08\n",
    "  \n",
    "  3     |      0.1\n",
    "  \n",
    "  4     |      0.04\n",
    "  \n",
    "  5     |      0.26\n",
    "  \n",
    "  6     |      0.12\n",
    "  \n",
    "  7     |      0.17\n",
    "  \n",
    "  8     |      0.09\n",
    "  \n",
    "  9     |      0.19\n",
    "  \n",
    " 10     |      0.25\n",
    " \n",
    " \n",
    " We will simulate 10,000 clients being approached successively by one of the 10 strategies, and with the rewards matrix we will simulate the client's decision to subscribe *yes*(1) or *no*(0) to the premium plan. As an example, the first few rows of a simulated reward matrix:\n",
    " \n",
    " blablablabla\n",
    " \n",
    " \n",
    "Thompson sampling will collect the feedback from each of these subscribers and thanks to its powerful algorithm, it will quickly figure out the strategy with the highest conversion rate.\n",
    " "
   ]
  },
  {
   "cell_type": "markdown",
   "metadata": {},
   "source": [
    "### Thompson sampling steps: \n",
    "\n",
    "* [https://en.wikipedia.org/wiki/Thompson_sampling](https://en.wikipedia.org/wiki/Thompson_sampling)\n",
    "\n",
    "* [https://towardsdatascience.com/thompson-sampling-fc28817eacb8](https://towardsdatascience.com/thompson-sampling-fc28817eacb8)\n",
    "\n",
    "We repeat for more than 10000 iteratios for each round *C*.\n",
    "\n",
    "**Step 1:** A random value is chosen for each iteration *i*. This value has to follow the distribution:\n",
    "$$\n",
    "\\theta_i(n) \\sim \\beta(N_i^1(n)+1,N_i^0(n)+1)\n",
    "$$\n",
    "\n",
    ",where:\n",
    "\n",
    "* $N_i^1(n)$ is the number of times the i-th strategy has gotten a reward equal to 1 until the n-th round.\n",
    "* $N_i^0(n)$ is the number of times the i-th strategy has gotten a reward equal to 0 until the n-th round.\n",
    "\n",
    "**Step 2:** We select the strategy $s(n)$ that gives us the highest value $\\theta_i(n)$:\n",
    "$$\n",
    "s(n) = \\underset{i\\in\\{1,...,9\\}}{\\textrm{argmax}}(\\theta_i(n))\n",
    "$$\n",
    "\n",
    "**Step 3:** We update $N_{s(n)}^1(n)$ and $N_{s(n)}^0(n)$ according to the next conditions:\n",
    "\n",
    "* If the selected strategy $s(n)$ has a reward equal to 1: $N_{s(n)}^1(n) := N_{s(n)}^1(n) + 1$.\n",
    "\n",
    "* If the selected strategy $s(n)$ has a reward equal to 0: $N_{s(n)}^0(n) := N_{s(n)}^0(n) + 1$.\n",
    "\n",
    "\n",
    "Each strategy has its own beta distribution. Throughout the rounds, the beta distribution strategy with the highest conversion rate will progressively move to the right, and the beta distributions strategy with the lowest conversion rates will progressively move to the left *(Steps 1 and 3)*. Therefore, due to *Step 2*, the strategy with the highest conversion rate will be selected.\n",
    "\n",
    "*[Source: [https://medium.com/pursuitnotes/day-28-reinforcement-learning-3-7a98bacc0927](https://medium.com/pursuitnotes/day-28-reinforcement-learning-3-7a98bacc0927)]*\n",
    "\n",
    "We will also implement the *random selection algorithm*, which will select a random strategy each round. This will be our benchmark for evaluating the return of our Thompson sampling model. Of course, the Thompson sampling and the random selection algorithm will compete in the same simulation using the same reward matrix. Once the complete simulation is done, we will evaluate the Thompson Sampling return by calculating the relative return:\n",
    "$$\n",
    "\\textrm{Relative return} = \\frac{\\textrm{(Return of Thompson)} - (\\textrm{Return of random selection})}{\\textrm{Random Selection Reward}} \\cdot 100\n",
    "$$"
   ]
  },
  {
   "cell_type": "markdown",
   "metadata": {},
   "source": [
    "## Import libraries"
   ]
  },
  {
   "cell_type": "code",
   "execution_count": 1,
   "metadata": {},
   "outputs": [],
   "source": [
    "import numpy as np\n",
    "import matplotlib.pyplot as plt\n",
    "import random"
   ]
  },
  {
   "cell_type": "markdown",
   "metadata": {},
   "source": [
    "## Config Parameters"
   ]
  },
  {
   "cell_type": "code",
   "execution_count": 2,
   "metadata": {},
   "outputs": [],
   "source": [
    "C = 100000 #Number of rounds = Number of clients\n",
    "s = 10 #Number of marketing strategies"
   ]
  },
  {
   "cell_type": "markdown",
   "metadata": {},
   "source": [
    "## Building the simulation"
   ]
  },
  {
   "cell_type": "code",
   "execution_count": 3,
   "metadata": {},
   "outputs": [],
   "source": [
    "conversion_rates = [0.01, 0.08, 0.1, 0.04, 0.26, 0.12, 0.17, 0.09, 0.19, 0.25]\n",
    "X = np.array(np.zeros([C, s]))\n",
    "for i in range(C): #Rounds=clients\n",
    "    for j in range(s): #Strategy\n",
    "        if np.random.rand() <= conversion_rates[j]: #if our random number.....then...\n",
    "            X[i,j] = 1"
   ]
  },
  {
   "cell_type": "markdown",
   "metadata": {},
   "source": [
    "## Random assignment and Thompson sampling"
   ]
  },
  {
   "cell_type": "code",
   "execution_count": 4,
   "metadata": {},
   "outputs": [],
   "source": [
    "strategies_selected_rs = [] #random select\n",
    "strategies_selected_ts = [] #thompson select\n",
    "total_reward_rs = 0\n",
    "total_reward_ts = 0\n",
    "number_of_rewards_1 = [0] * s #creating a s-zeros list\n",
    "number_of_rewards_0 = [0] * s\n",
    "for n in range(0, C): #Starting rounds=clients\n",
    "    # Random Selection\n",
    "    strategy_rs = random.randrange(s) #select a random strategy\n",
    "    strategies_selected_rs.append(strategy_rs)\n",
    "    reward_rs = X[n, strategy_rs] #WE get the reward which has been created before\n",
    "    total_reward_rs += reward_rs\n",
    "    # Thompson Sampling\n",
    "    strategy_ts = 0\n",
    "    max_random = 0\n",
    "    for i in range(0, s):\n",
    "        #Step 1\n",
    "        random_beta = random.betavariate(number_of_rewards_1[i]+1, \n",
    "                                         number_of_rewards_0[i]+1)\n",
    "        #Step 2\n",
    "        if random_beta > max_random: \n",
    "            max_random = random_beta\n",
    "            strategy_ts = i\n",
    "    strategies_selected_ts.append(strategy_ts)\n",
    "    #Step 3\n",
    "    reward_ts = X[n, strategy_ts]\n",
    "    if reward_ts == 1:\n",
    "        number_of_rewards_1[strategy_ts] += 1\n",
    "    else:\n",
    "        number_of_rewards_0[strategy_ts] += 1\n",
    "    total_reward_ts += reward_ts"
   ]
  },
  {
   "cell_type": "markdown",
   "metadata": {},
   "source": [
    "## Relative and absolute return"
   ]
  },
  {
   "cell_type": "code",
   "execution_count": 5,
   "metadata": {},
   "outputs": [
    {
     "name": "stdout",
     "output_type": "stream",
     "text": [
      "Absolute Return: 1287500 $\n",
      "Relative Return: 98 %\n"
     ]
    }
   ],
   "source": [
    "absolute_return = (total_reward_ts - total_reward_rs)*100 #We assume 100 $/sale.\n",
    "relative_return = (total_reward_ts - total_reward_rs) / total_reward_rs * 100\n",
    "print(\"Absolute Return: {:.0f} $\".format(absolute_return))\n",
    "print(\"Relative Return: {:.0f} %\".format(relative_return))"
   ]
  },
  {
   "cell_type": "markdown",
   "metadata": {},
   "source": [
    "# Plotting histogram"
   ]
  },
  {
   "cell_type": "code",
   "execution_count": 6,
   "metadata": {},
   "outputs": [
    {
     "data": {
      "image/png": "[encoded data removed]",
      "text/plain": [
       "<Figure size 432x288 with 1 Axes>"
      ]
     },
     "metadata": {
      "needs_background": "light"
     },
     "output_type": "display_data"
    }
   ],
   "source": [
    "plt.hist(strategies_selected_ts)\n",
    "plt.title(\"Histogram of selections\")\n",
    "plt.xlabel(\"Strategy\")\n",
    "plt.ylabel(\"Number of times has been selected the strategy\")\n",
    "plt.show()\n"
   ]
  },
  {
   "cell_type": "code",
   "execution_count": 7,
   "metadata": {},
   "outputs": [
    {
     "name": "stdout",
     "output_type": "stream",
     "text": [
      "/bin/bash: -c: line 0: syntax error near unexpected token `Recursos/dsitribution.png'\r\n",
      "/bin/bash: -c: line 0: `[png](Recursos/dsitribution.png)'\r\n"
     ]
    }
   ],
   "source": [
    "\n",
    "![png](Recursos/dsitribution.png)\n"
   ]
  },
  {
   "cell_type": "markdown",
   "metadata": {},
   "source": [
    "# Regret Curve\n",
    "\n",
    "The Regret curve is the representation of the difference between the best strategy and the model, with respect to the rounds. The best strategy is calculated obtaining the maximum accumulated rewards in all the different strategies in each round."
   ]
  },
  {
   "cell_type": "code",
   "execution_count": 8,
   "metadata": {},
   "outputs": [],
   "source": [
    "rewards_strategies = [0] * s\n",
    "for n in range(0, C):\n",
    "    # Best Strategy\n",
    "    for i in range(0, s):\n",
    "        rewards_strategies[i] = rewards_strategies[i] + X[n, i]\n",
    "    total_reward_bs = max(rewards_strategies)"
   ]
  },
  {
   "cell_type": "markdown",
   "metadata": {},
   "source": [
    "**- Regret of Thompson Sampling:**"
   ]
  },
  {
   "cell_type": "code",
   "execution_count": 9,
   "metadata": {},
   "outputs": [],
   "source": [
    "strategies_selected_ts = []\n",
    "total_reward_ts = 0\n",
    "total_reward_bs = 0\n",
    "numbers_of_rewards_1 = [0] * s\n",
    "numbers_of_rewards_0 = [0] * s\n",
    "rewards_strategies = [0] * s\n",
    "regret = []\n",
    "\n",
    "for n in range(0, C):\n",
    "    # Thompson Sampling\n",
    "    strategy_ts = 0\n",
    "    max_random = 0\n",
    "    for i in range(0, s):\n",
    "        random_beta = random.betavariate(numbers_of_rewards_1[i] + 1,\n",
    "        numbers_of_rewards_0[i] + 1)\n",
    "        if random_beta > max_random:\n",
    "            max_random = random_beta\n",
    "            strategy_ts = i\n",
    "        reward_ts = X[n, strategy_ts]\n",
    "        if reward_ts == 1:\n",
    "            numbers_of_rewards_1[strategy_ts] = numbers_of_rewards_1[strategy_ts] + 1\n",
    "        else:\n",
    "            numbers_of_rewards_0[strategy_ts] = numbers_of_rewards_0[strategy_ts] + 1\n",
    "        strategies_selected_ts.append(strategy_ts)\n",
    "        total_reward_ts = total_reward_ts + reward_ts\n",
    "        # Best Strategy\n",
    "        for i in range(0, s):\n",
    "            rewards_strategies[i] = rewards_strategies[i] + X[n, i]\n",
    "        total_reward_bs = max(rewards_strategies)\n",
    "        # Regret\n",
    "        regret.append(total_reward_bs - total_reward_ts)"
   ]
  },
  {
   "cell_type": "markdown",
   "metadata": {},
   "source": [
    "**- Plotting the Regret Curve of Thompson Sampling:**"
   ]
  },
  {
   "cell_type": "code",
   "execution_count": 10,
   "metadata": {},
   "outputs": [
    {
     "data": {
      "image/png": "[encoded data removed]",
      "text/plain": [
       "<Figure size 432x288 with 1 Axes>"
      ]
     },
     "metadata": {
      "needs_background": "light"
     },
     "output_type": "display_data"
    }
   ],
   "source": [
    "plt.plot(regret)\n",
    "plt.title('Regret Curve of Thompson Sampling')\n",
    "plt.xlabel('Round')\n",
    "plt.ylabel('Regret')\n",
    "plt.show()"
   ]
  },
  {
   "cell_type": "markdown",
   "metadata": {},
   "source": [
    "**- Regret of the Random Strategy:**"
   ]
  },
  {
   "cell_type": "code",
   "execution_count": 11,
   "metadata": {},
   "outputs": [],
   "source": [
    "strategies_selected_rs = []\n",
    "total_reward_rs = 0\n",
    "total_reward_bs = 0\n",
    "numbers_of_rewards_1 = [0] * s\n",
    "numbers_of_rewards_0 = [0] * s\n",
    "rewards_strategies = [0] * s\n",
    "regret = []\n",
    "for n in range(0, C):\n",
    "    # Random Strategy\n",
    "    strategy_rs = random.randrange(s)\n",
    "    strategies_selected_rs.append(strategy_rs)\n",
    "    reward_rs = X[n, strategy_rs]\n",
    "    total_reward_rs = total_reward_rs + reward_rs\n",
    "    # Best Strategy\n",
    "    for i in range(0, s):\n",
    "        rewards_strategies[i] = rewards_strategies[i] + X[n, i]\n",
    "    total_reward_bs = max(rewards_strategies)\n",
    "    # Regret\n",
    "    regret.append(total_reward_bs - total_reward_rs)"
   ]
  },
  {
   "cell_type": "markdown",
   "metadata": {},
   "source": [
    "**- Plotting the Regret Curve of Random Strategy:**"
   ]
  },
  {
   "cell_type": "code",
   "execution_count": 12,
   "metadata": {},
   "outputs": [
    {
     "data": {
      "image/png": "[encoded data removed]",
      "text/plain": [
       "<Figure size 432x288 with 1 Axes>"
      ]
     },
     "metadata": {
      "needs_background": "light"
     },
     "output_type": "display_data"
    }
   ],
   "source": [
    "plt.plot(regret)\n",
    "plt.title('Regret Curve of Random Strategy')\n",
    "plt.xlabel('Round')\n",
    "plt.ylabel('Regret')\n",
    "plt.show()"
   ]
  },
  {
   "cell_type": "code",
   "execution_count": null,
   "metadata": {},
   "outputs": [],
   "source": []
  }
 ],
 "metadata": {
  "kernelspec": {
   "display_name": "Python 3",
   "language": "python",
   "name": "python3"
  },
  "language_info": {
   "codemirror_mode": {
    "name": "ipython",
    "version": 3
   },
   "file_extension": ".py",
   "mimetype": "text/x-python",
   "name": "python",
   "nbconvert_exporter": "python",
   "pygments_lexer": "ipython3",
   "version": "3.8.5"
  }
 },
 "nbformat": 4,
 "nbformat_minor": 2
}
